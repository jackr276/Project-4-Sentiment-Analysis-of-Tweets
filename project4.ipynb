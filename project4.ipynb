{
 "cells": [
  {
   "attachments": {},
   "cell_type": "markdown",
   "metadata": {},
   "source": [
    "## Jack Robbins\n",
    "## CMP-262\n",
    "## Professor Binowski\n",
    "## Project 4 - Sentiment Analysis of Tweets"
   ]
  },
  {
   "cell_type": "code",
   "execution_count": 6,
   "metadata": {},
   "outputs": [],
   "source": [
    "import tweepy\n",
    "import geopy\n",
    "import preprocessor as pre\n",
    "from wordcloud import WordCloud\n",
    "from IPython.display import Image"
   ]
  },
  {
   "cell_type": "code",
   "execution_count": null,
   "metadata": {},
   "outputs": [],
   "source": []
  },
  {
   "attachments": {},
   "cell_type": "markdown",
   "metadata": {},
   "source": [
    "Twitter Keys\n",
    "API key: WJtZRifH8tI8wVBDhXTLQmifz\n",
    "API Key Secret: UnQbOCCw4QDbQH713osugCO2A2sCi0IKvYQjMv6OM7bFXbv16a\n",
    "Bearer Token: AAAAAAAAAAAAAAAAAAAAANQXkgEAAAAAbvaTHt2KFGHL08%2F7KU81QHvGvaw%3DlLc5URsjp9Ni2BSBnKjqeX4W6v8OMFP3G29dsCgD4f6tJqWy2A\n",
    "Access Token: 1604139786251517960-B1oAQ1YQVNQjGmMtMEeJOI5wXL19e4\n",
    "Access Token Secret: uvSIZmwDrq8Zub0prZgijtAr4JtLHUKxFAQ6wO8Ayng16"
   ]
  }
 ],
 "metadata": {
  "kernelspec": {
   "display_name": "Python 3",
   "language": "python",
   "name": "python3"
  },
  "language_info": {
   "codemirror_mode": {
    "name": "ipython",
    "version": 3
   },
   "file_extension": ".py",
   "mimetype": "text/x-python",
   "name": "python",
   "nbconvert_exporter": "python",
   "pygments_lexer": "ipython3",
   "version": "3.10.6"
  },
  "orig_nbformat": 4,
  "vscode": {
   "interpreter": {
    "hash": "916dbcbb3f70747c44a77c7bcd40155683ae19c65e1c03b4aa3499c5328201f1"
   }
  }
 },
 "nbformat": 4,
 "nbformat_minor": 2
}
